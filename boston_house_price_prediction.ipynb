{
  "nbformat": 4,
  "nbformat_minor": 0,
  "metadata": {
    "colab": {
      "name": "boston house price prediction.ipynb",
      "provenance": [],
      "collapsed_sections": [],
      "authorship_tag": "ABX9TyO+yuQyugByZkcjEJ4ddoKV",
      "include_colab_link": true
    },
    "kernelspec": {
      "name": "python3",
      "display_name": "Python 3"
    },
    "language_info": {
      "name": "python"
    },
    "accelerator": "GPU"
  },
  "cells": [
    {
      "cell_type": "markdown",
      "metadata": {
        "id": "view-in-github",
        "colab_type": "text"
      },
      "source": [
        "<a href=\"https://colab.research.google.com/github/chandan-source/Boston_house_price_prediction_model/blob/main/boston_house_price_prediction.ipynb\" target=\"_parent\"><img src=\"https://colab.research.google.com/assets/colab-badge.svg\" alt=\"Open In Colab\"/></a>"
      ]
    },
    {
      "cell_type": "code",
      "metadata": {
        "id": "96K_ajYDt4EV"
      },
      "source": [
        "#importing libraries to use library function\n",
        "import numpy as np\n",
        "import pandas as pd\n",
        "import matplotlib.pyplot as plt"
      ],
      "execution_count": 1,
      "outputs": []
    },
    {
      "cell_type": "code",
      "metadata": {
        "id": "atpdBZO7vnbc"
      },
      "source": [
        "#df contains the file infromation which is in csv format\n",
        "df_train=pd.read_csv(\"/content/Data.csv\")\n"
      ],
      "execution_count": 2,
      "outputs": []
    },
    {
      "cell_type": "code",
      "metadata": {
        "colab": {
          "base_uri": "https://localhost:8080/",
          "height": 206
        },
        "id": "E_2gK_P0v1rM",
        "outputId": "62e197f6-494b-4351-f025-9126984d9582"
      },
      "source": [
        "df_train.head()"
      ],
      "execution_count": 3,
      "outputs": [
        {
          "output_type": "execute_result",
          "data": {
            "text/plain": [
              "      CRIM    ZN  INDUS  CHAS    NOX     RM   AGE     DIS  RAD  TAX  PTRATIO  \\\n",
              "0  0.00632  18.0   2.31     0  0.538  6.575  65.2  4.0900    1  296     15.3   \n",
              "1  0.02731   0.0   7.07     0  0.469  6.421  78.9  4.9671    2  242     17.8   \n",
              "2  0.02729   0.0   7.07     0  0.469  7.185  61.1  4.9671    2  242     17.8   \n",
              "3  0.03237   0.0   2.18     0  0.458  6.998  45.8  6.0622    3  222     18.7   \n",
              "4  0.06905   0.0   2.18     0  0.458  7.147  54.2  6.0622    3  222     18.7   \n",
              "\n",
              "        B  LSTAT  MEDV  \n",
              "0  396.90   4.98  24.0  \n",
              "1  396.90   9.14  21.6  \n",
              "2  392.83   4.03  34.7  \n",
              "3  394.63   2.94  33.4  \n",
              "4  396.90   5.33  36.2  "
            ],
            "text/html": [
              "\n",
              "  <div id=\"df-16ec9049-751a-4df9-b416-741b84722ed2\">\n",
              "    <div class=\"colab-df-container\">\n",
              "      <div>\n",
              "<style scoped>\n",
              "    .dataframe tbody tr th:only-of-type {\n",
              "        vertical-align: middle;\n",
              "    }\n",
              "\n",
              "    .dataframe tbody tr th {\n",
              "        vertical-align: top;\n",
              "    }\n",
              "\n",
              "    .dataframe thead th {\n",
              "        text-align: right;\n",
              "    }\n",
              "</style>\n",
              "<table border=\"1\" class=\"dataframe\">\n",
              "  <thead>\n",
              "    <tr style=\"text-align: right;\">\n",
              "      <th></th>\n",
              "      <th>CRIM</th>\n",
              "      <th>ZN</th>\n",
              "      <th>INDUS</th>\n",
              "      <th>CHAS</th>\n",
              "      <th>NOX</th>\n",
              "      <th>RM</th>\n",
              "      <th>AGE</th>\n",
              "      <th>DIS</th>\n",
              "      <th>RAD</th>\n",
              "      <th>TAX</th>\n",
              "      <th>PTRATIO</th>\n",
              "      <th>B</th>\n",
              "      <th>LSTAT</th>\n",
              "      <th>MEDV</th>\n",
              "    </tr>\n",
              "  </thead>\n",
              "  <tbody>\n",
              "    <tr>\n",
              "      <th>0</th>\n",
              "      <td>0.00632</td>\n",
              "      <td>18.0</td>\n",
              "      <td>2.31</td>\n",
              "      <td>0</td>\n",
              "      <td>0.538</td>\n",
              "      <td>6.575</td>\n",
              "      <td>65.2</td>\n",
              "      <td>4.0900</td>\n",
              "      <td>1</td>\n",
              "      <td>296</td>\n",
              "      <td>15.3</td>\n",
              "      <td>396.90</td>\n",
              "      <td>4.98</td>\n",
              "      <td>24.0</td>\n",
              "    </tr>\n",
              "    <tr>\n",
              "      <th>1</th>\n",
              "      <td>0.02731</td>\n",
              "      <td>0.0</td>\n",
              "      <td>7.07</td>\n",
              "      <td>0</td>\n",
              "      <td>0.469</td>\n",
              "      <td>6.421</td>\n",
              "      <td>78.9</td>\n",
              "      <td>4.9671</td>\n",
              "      <td>2</td>\n",
              "      <td>242</td>\n",
              "      <td>17.8</td>\n",
              "      <td>396.90</td>\n",
              "      <td>9.14</td>\n",
              "      <td>21.6</td>\n",
              "    </tr>\n",
              "    <tr>\n",
              "      <th>2</th>\n",
              "      <td>0.02729</td>\n",
              "      <td>0.0</td>\n",
              "      <td>7.07</td>\n",
              "      <td>0</td>\n",
              "      <td>0.469</td>\n",
              "      <td>7.185</td>\n",
              "      <td>61.1</td>\n",
              "      <td>4.9671</td>\n",
              "      <td>2</td>\n",
              "      <td>242</td>\n",
              "      <td>17.8</td>\n",
              "      <td>392.83</td>\n",
              "      <td>4.03</td>\n",
              "      <td>34.7</td>\n",
              "    </tr>\n",
              "    <tr>\n",
              "      <th>3</th>\n",
              "      <td>0.03237</td>\n",
              "      <td>0.0</td>\n",
              "      <td>2.18</td>\n",
              "      <td>0</td>\n",
              "      <td>0.458</td>\n",
              "      <td>6.998</td>\n",
              "      <td>45.8</td>\n",
              "      <td>6.0622</td>\n",
              "      <td>3</td>\n",
              "      <td>222</td>\n",
              "      <td>18.7</td>\n",
              "      <td>394.63</td>\n",
              "      <td>2.94</td>\n",
              "      <td>33.4</td>\n",
              "    </tr>\n",
              "    <tr>\n",
              "      <th>4</th>\n",
              "      <td>0.06905</td>\n",
              "      <td>0.0</td>\n",
              "      <td>2.18</td>\n",
              "      <td>0</td>\n",
              "      <td>0.458</td>\n",
              "      <td>7.147</td>\n",
              "      <td>54.2</td>\n",
              "      <td>6.0622</td>\n",
              "      <td>3</td>\n",
              "      <td>222</td>\n",
              "      <td>18.7</td>\n",
              "      <td>396.90</td>\n",
              "      <td>5.33</td>\n",
              "      <td>36.2</td>\n",
              "    </tr>\n",
              "  </tbody>\n",
              "</table>\n",
              "</div>\n",
              "      <button class=\"colab-df-convert\" onclick=\"convertToInteractive('df-16ec9049-751a-4df9-b416-741b84722ed2')\"\n",
              "              title=\"Convert this dataframe to an interactive table.\"\n",
              "              style=\"display:none;\">\n",
              "        \n",
              "  <svg xmlns=\"http://www.w3.org/2000/svg\" height=\"24px\"viewBox=\"0 0 24 24\"\n",
              "       width=\"24px\">\n",
              "    <path d=\"M0 0h24v24H0V0z\" fill=\"none\"/>\n",
              "    <path d=\"M18.56 5.44l.94 2.06.94-2.06 2.06-.94-2.06-.94-.94-2.06-.94 2.06-2.06.94zm-11 1L8.5 8.5l.94-2.06 2.06-.94-2.06-.94L8.5 2.5l-.94 2.06-2.06.94zm10 10l.94 2.06.94-2.06 2.06-.94-2.06-.94-.94-2.06-.94 2.06-2.06.94z\"/><path d=\"M17.41 7.96l-1.37-1.37c-.4-.4-.92-.59-1.43-.59-.52 0-1.04.2-1.43.59L10.3 9.45l-7.72 7.72c-.78.78-.78 2.05 0 2.83L4 21.41c.39.39.9.59 1.41.59.51 0 1.02-.2 1.41-.59l7.78-7.78 2.81-2.81c.8-.78.8-2.07 0-2.86zM5.41 20L4 18.59l7.72-7.72 1.47 1.35L5.41 20z\"/>\n",
              "  </svg>\n",
              "      </button>\n",
              "      \n",
              "  <style>\n",
              "    .colab-df-container {\n",
              "      display:flex;\n",
              "      flex-wrap:wrap;\n",
              "      gap: 12px;\n",
              "    }\n",
              "\n",
              "    .colab-df-convert {\n",
              "      background-color: #E8F0FE;\n",
              "      border: none;\n",
              "      border-radius: 50%;\n",
              "      cursor: pointer;\n",
              "      display: none;\n",
              "      fill: #1967D2;\n",
              "      height: 32px;\n",
              "      padding: 0 0 0 0;\n",
              "      width: 32px;\n",
              "    }\n",
              "\n",
              "    .colab-df-convert:hover {\n",
              "      background-color: #E2EBFA;\n",
              "      box-shadow: 0px 1px 2px rgba(60, 64, 67, 0.3), 0px 1px 3px 1px rgba(60, 64, 67, 0.15);\n",
              "      fill: #174EA6;\n",
              "    }\n",
              "\n",
              "    [theme=dark] .colab-df-convert {\n",
              "      background-color: #3B4455;\n",
              "      fill: #D2E3FC;\n",
              "    }\n",
              "\n",
              "    [theme=dark] .colab-df-convert:hover {\n",
              "      background-color: #434B5C;\n",
              "      box-shadow: 0px 1px 3px 1px rgba(0, 0, 0, 0.15);\n",
              "      filter: drop-shadow(0px 1px 2px rgba(0, 0, 0, 0.3));\n",
              "      fill: #FFFFFF;\n",
              "    }\n",
              "  </style>\n",
              "\n",
              "      <script>\n",
              "        const buttonEl =\n",
              "          document.querySelector('#df-16ec9049-751a-4df9-b416-741b84722ed2 button.colab-df-convert');\n",
              "        buttonEl.style.display =\n",
              "          google.colab.kernel.accessAllowed ? 'block' : 'none';\n",
              "\n",
              "        async function convertToInteractive(key) {\n",
              "          const element = document.querySelector('#df-16ec9049-751a-4df9-b416-741b84722ed2');\n",
              "          const dataTable =\n",
              "            await google.colab.kernel.invokeFunction('convertToInteractive',\n",
              "                                                     [key], {});\n",
              "          if (!dataTable) return;\n",
              "\n",
              "          const docLinkHtml = 'Like what you see? Visit the ' +\n",
              "            '<a target=\"_blank\" href=https://colab.research.google.com/notebooks/data_table.ipynb>data table notebook</a>'\n",
              "            + ' to learn more about interactive tables.';\n",
              "          element.innerHTML = '';\n",
              "          dataTable['output_type'] = 'display_data';\n",
              "          await google.colab.output.renderOutput(dataTable, element);\n",
              "          const docLink = document.createElement('div');\n",
              "          docLink.innerHTML = docLinkHtml;\n",
              "          element.appendChild(docLink);\n",
              "        }\n",
              "      </script>\n",
              "    </div>\n",
              "  </div>\n",
              "  "
            ]
          },
          "metadata": {},
          "execution_count": 3
        }
      ]
    },
    {
      "cell_type": "code",
      "metadata": {
        "colab": {
          "base_uri": "https://localhost:8080/"
        },
        "id": "qsXFbQDIv8k1",
        "outputId": "9cacbb8e-fc67-49ed-fa25-e40dfe357f9b"
      },
      "source": [
        "df_train.shape"
      ],
      "execution_count": 4,
      "outputs": [
        {
          "output_type": "execute_result",
          "data": {
            "text/plain": [
              "(506, 14)"
            ]
          },
          "metadata": {},
          "execution_count": 4
        }
      ]
    },
    {
      "cell_type": "code",
      "metadata": {
        "colab": {
          "base_uri": "https://localhost:8080/"
        },
        "id": "Pb3kAyz5wEl8",
        "outputId": "450bcc51-afad-46e1-cd8a-da7a55872296"
      },
      "source": [
        "df_train['ZN'].unique()"
      ],
      "execution_count": 5,
      "outputs": [
        {
          "output_type": "execute_result",
          "data": {
            "text/plain": [
              "array([ 18. ,   0. ,  12.5,  75. ,  21. ,  90. ,  85. , 100. ,  25. ,\n",
              "        17.5,  80. ,  28. ,  45. ,  60. ,  95. ,  82.5,  30. ,  22. ,\n",
              "        20. ,  40. ,  55. ,  52.5,  70. ,  34. ,  33. ,  35. ])"
            ]
          },
          "metadata": {},
          "execution_count": 5
        }
      ]
    },
    {
      "cell_type": "code",
      "metadata": {
        "colab": {
          "base_uri": "https://localhost:8080/"
        },
        "id": "xBOkju0G5Md9",
        "outputId": "494dd5d6-b16d-4d22-849a-2e6d95200ecd"
      },
      "source": [
        "#getting the infromation of dataset such as no. of entries,data column,non-null count,data types etc..\n",
        "df_train.info()"
      ],
      "execution_count": 6,
      "outputs": [
        {
          "output_type": "stream",
          "name": "stdout",
          "text": [
            "<class 'pandas.core.frame.DataFrame'>\n",
            "RangeIndex: 506 entries, 0 to 505\n",
            "Data columns (total 14 columns):\n",
            " #   Column   Non-Null Count  Dtype  \n",
            "---  ------   --------------  -----  \n",
            " 0   CRIM     506 non-null    float64\n",
            " 1   ZN       506 non-null    float64\n",
            " 2   INDUS    506 non-null    float64\n",
            " 3   CHAS     506 non-null    int64  \n",
            " 4   NOX      506 non-null    float64\n",
            " 5   RM       506 non-null    float64\n",
            " 6   AGE      506 non-null    float64\n",
            " 7   DIS      506 non-null    float64\n",
            " 8   RAD      506 non-null    int64  \n",
            " 9   TAX      506 non-null    int64  \n",
            " 10  PTRATIO  506 non-null    float64\n",
            " 11  B        506 non-null    float64\n",
            " 12  LSTAT    506 non-null    float64\n",
            " 13  MEDV     506 non-null    float64\n",
            "dtypes: float64(11), int64(3)\n",
            "memory usage: 55.5 KB\n"
          ]
        }
      ]
    },
    {
      "cell_type": "code",
      "metadata": {
        "id": "KvNgi2DN_a0Q"
      },
      "source": [
        "l1=['NOX','B','CHAS']"
      ],
      "execution_count": 7,
      "outputs": []
    },
    {
      "cell_type": "code",
      "metadata": {
        "id": "kvFmLj8e_j5O"
      },
      "source": [
        "#removing 3 column from the datset\n",
        "df_train.drop(l1,axis=1,inplace=True)"
      ],
      "execution_count": 8,
      "outputs": []
    },
    {
      "cell_type": "code",
      "metadata": {
        "colab": {
          "base_uri": "https://localhost:8080/",
          "height": 206
        },
        "id": "QT5xCWwY_6XP",
        "outputId": "43ae1286-5c73-465f-cb54-83d90714f3c6"
      },
      "source": [
        "df_train.head()"
      ],
      "execution_count": 9,
      "outputs": [
        {
          "output_type": "execute_result",
          "data": {
            "text/plain": [
              "      CRIM    ZN  INDUS     RM   AGE     DIS  RAD  TAX  PTRATIO  LSTAT  MEDV\n",
              "0  0.00632  18.0   2.31  6.575  65.2  4.0900    1  296     15.3   4.98  24.0\n",
              "1  0.02731   0.0   7.07  6.421  78.9  4.9671    2  242     17.8   9.14  21.6\n",
              "2  0.02729   0.0   7.07  7.185  61.1  4.9671    2  242     17.8   4.03  34.7\n",
              "3  0.03237   0.0   2.18  6.998  45.8  6.0622    3  222     18.7   2.94  33.4\n",
              "4  0.06905   0.0   2.18  7.147  54.2  6.0622    3  222     18.7   5.33  36.2"
            ],
            "text/html": [
              "\n",
              "  <div id=\"df-c24a9c6f-a936-4c6c-87de-ba92f366935c\">\n",
              "    <div class=\"colab-df-container\">\n",
              "      <div>\n",
              "<style scoped>\n",
              "    .dataframe tbody tr th:only-of-type {\n",
              "        vertical-align: middle;\n",
              "    }\n",
              "\n",
              "    .dataframe tbody tr th {\n",
              "        vertical-align: top;\n",
              "    }\n",
              "\n",
              "    .dataframe thead th {\n",
              "        text-align: right;\n",
              "    }\n",
              "</style>\n",
              "<table border=\"1\" class=\"dataframe\">\n",
              "  <thead>\n",
              "    <tr style=\"text-align: right;\">\n",
              "      <th></th>\n",
              "      <th>CRIM</th>\n",
              "      <th>ZN</th>\n",
              "      <th>INDUS</th>\n",
              "      <th>RM</th>\n",
              "      <th>AGE</th>\n",
              "      <th>DIS</th>\n",
              "      <th>RAD</th>\n",
              "      <th>TAX</th>\n",
              "      <th>PTRATIO</th>\n",
              "      <th>LSTAT</th>\n",
              "      <th>MEDV</th>\n",
              "    </tr>\n",
              "  </thead>\n",
              "  <tbody>\n",
              "    <tr>\n",
              "      <th>0</th>\n",
              "      <td>0.00632</td>\n",
              "      <td>18.0</td>\n",
              "      <td>2.31</td>\n",
              "      <td>6.575</td>\n",
              "      <td>65.2</td>\n",
              "      <td>4.0900</td>\n",
              "      <td>1</td>\n",
              "      <td>296</td>\n",
              "      <td>15.3</td>\n",
              "      <td>4.98</td>\n",
              "      <td>24.0</td>\n",
              "    </tr>\n",
              "    <tr>\n",
              "      <th>1</th>\n",
              "      <td>0.02731</td>\n",
              "      <td>0.0</td>\n",
              "      <td>7.07</td>\n",
              "      <td>6.421</td>\n",
              "      <td>78.9</td>\n",
              "      <td>4.9671</td>\n",
              "      <td>2</td>\n",
              "      <td>242</td>\n",
              "      <td>17.8</td>\n",
              "      <td>9.14</td>\n",
              "      <td>21.6</td>\n",
              "    </tr>\n",
              "    <tr>\n",
              "      <th>2</th>\n",
              "      <td>0.02729</td>\n",
              "      <td>0.0</td>\n",
              "      <td>7.07</td>\n",
              "      <td>7.185</td>\n",
              "      <td>61.1</td>\n",
              "      <td>4.9671</td>\n",
              "      <td>2</td>\n",
              "      <td>242</td>\n",
              "      <td>17.8</td>\n",
              "      <td>4.03</td>\n",
              "      <td>34.7</td>\n",
              "    </tr>\n",
              "    <tr>\n",
              "      <th>3</th>\n",
              "      <td>0.03237</td>\n",
              "      <td>0.0</td>\n",
              "      <td>2.18</td>\n",
              "      <td>6.998</td>\n",
              "      <td>45.8</td>\n",
              "      <td>6.0622</td>\n",
              "      <td>3</td>\n",
              "      <td>222</td>\n",
              "      <td>18.7</td>\n",
              "      <td>2.94</td>\n",
              "      <td>33.4</td>\n",
              "    </tr>\n",
              "    <tr>\n",
              "      <th>4</th>\n",
              "      <td>0.06905</td>\n",
              "      <td>0.0</td>\n",
              "      <td>2.18</td>\n",
              "      <td>7.147</td>\n",
              "      <td>54.2</td>\n",
              "      <td>6.0622</td>\n",
              "      <td>3</td>\n",
              "      <td>222</td>\n",
              "      <td>18.7</td>\n",
              "      <td>5.33</td>\n",
              "      <td>36.2</td>\n",
              "    </tr>\n",
              "  </tbody>\n",
              "</table>\n",
              "</div>\n",
              "      <button class=\"colab-df-convert\" onclick=\"convertToInteractive('df-c24a9c6f-a936-4c6c-87de-ba92f366935c')\"\n",
              "              title=\"Convert this dataframe to an interactive table.\"\n",
              "              style=\"display:none;\">\n",
              "        \n",
              "  <svg xmlns=\"http://www.w3.org/2000/svg\" height=\"24px\"viewBox=\"0 0 24 24\"\n",
              "       width=\"24px\">\n",
              "    <path d=\"M0 0h24v24H0V0z\" fill=\"none\"/>\n",
              "    <path d=\"M18.56 5.44l.94 2.06.94-2.06 2.06-.94-2.06-.94-.94-2.06-.94 2.06-2.06.94zm-11 1L8.5 8.5l.94-2.06 2.06-.94-2.06-.94L8.5 2.5l-.94 2.06-2.06.94zm10 10l.94 2.06.94-2.06 2.06-.94-2.06-.94-.94-2.06-.94 2.06-2.06.94z\"/><path d=\"M17.41 7.96l-1.37-1.37c-.4-.4-.92-.59-1.43-.59-.52 0-1.04.2-1.43.59L10.3 9.45l-7.72 7.72c-.78.78-.78 2.05 0 2.83L4 21.41c.39.39.9.59 1.41.59.51 0 1.02-.2 1.41-.59l7.78-7.78 2.81-2.81c.8-.78.8-2.07 0-2.86zM5.41 20L4 18.59l7.72-7.72 1.47 1.35L5.41 20z\"/>\n",
              "  </svg>\n",
              "      </button>\n",
              "      \n",
              "  <style>\n",
              "    .colab-df-container {\n",
              "      display:flex;\n",
              "      flex-wrap:wrap;\n",
              "      gap: 12px;\n",
              "    }\n",
              "\n",
              "    .colab-df-convert {\n",
              "      background-color: #E8F0FE;\n",
              "      border: none;\n",
              "      border-radius: 50%;\n",
              "      cursor: pointer;\n",
              "      display: none;\n",
              "      fill: #1967D2;\n",
              "      height: 32px;\n",
              "      padding: 0 0 0 0;\n",
              "      width: 32px;\n",
              "    }\n",
              "\n",
              "    .colab-df-convert:hover {\n",
              "      background-color: #E2EBFA;\n",
              "      box-shadow: 0px 1px 2px rgba(60, 64, 67, 0.3), 0px 1px 3px 1px rgba(60, 64, 67, 0.15);\n",
              "      fill: #174EA6;\n",
              "    }\n",
              "\n",
              "    [theme=dark] .colab-df-convert {\n",
              "      background-color: #3B4455;\n",
              "      fill: #D2E3FC;\n",
              "    }\n",
              "\n",
              "    [theme=dark] .colab-df-convert:hover {\n",
              "      background-color: #434B5C;\n",
              "      box-shadow: 0px 1px 3px 1px rgba(0, 0, 0, 0.15);\n",
              "      filter: drop-shadow(0px 1px 2px rgba(0, 0, 0, 0.3));\n",
              "      fill: #FFFFFF;\n",
              "    }\n",
              "  </style>\n",
              "\n",
              "      <script>\n",
              "        const buttonEl =\n",
              "          document.querySelector('#df-c24a9c6f-a936-4c6c-87de-ba92f366935c button.colab-df-convert');\n",
              "        buttonEl.style.display =\n",
              "          google.colab.kernel.accessAllowed ? 'block' : 'none';\n",
              "\n",
              "        async function convertToInteractive(key) {\n",
              "          const element = document.querySelector('#df-c24a9c6f-a936-4c6c-87de-ba92f366935c');\n",
              "          const dataTable =\n",
              "            await google.colab.kernel.invokeFunction('convertToInteractive',\n",
              "                                                     [key], {});\n",
              "          if (!dataTable) return;\n",
              "\n",
              "          const docLinkHtml = 'Like what you see? Visit the ' +\n",
              "            '<a target=\"_blank\" href=https://colab.research.google.com/notebooks/data_table.ipynb>data table notebook</a>'\n",
              "            + ' to learn more about interactive tables.';\n",
              "          element.innerHTML = '';\n",
              "          dataTable['output_type'] = 'display_data';\n",
              "          await google.colab.output.renderOutput(dataTable, element);\n",
              "          const docLink = document.createElement('div');\n",
              "          docLink.innerHTML = docLinkHtml;\n",
              "          element.appendChild(docLink);\n",
              "        }\n",
              "      </script>\n",
              "    </div>\n",
              "  </div>\n",
              "  "
            ]
          },
          "metadata": {},
          "execution_count": 9
        }
      ]
    },
    {
      "cell_type": "code",
      "metadata": {
        "colab": {
          "base_uri": "https://localhost:8080/"
        },
        "id": "PHhOlHYQBTS_",
        "outputId": "8d37366f-6965-43cc-f16a-654c2381ce75"
      },
      "source": [
        "df_train.shape"
      ],
      "execution_count": 10,
      "outputs": [
        {
          "output_type": "execute_result",
          "data": {
            "text/plain": [
              "(506, 11)"
            ]
          },
          "metadata": {},
          "execution_count": 10
        }
      ]
    },
    {
      "cell_type": "code",
      "metadata": {
        "colab": {
          "base_uri": "https://localhost:8080/"
        },
        "id": "a71hQO_NAByF",
        "outputId": "26b96056-47a3-4808-907b-3c0b270e2346"
      },
      "source": [
        "df_train.dtypes"
      ],
      "execution_count": 11,
      "outputs": [
        {
          "output_type": "execute_result",
          "data": {
            "text/plain": [
              "CRIM       float64\n",
              "ZN         float64\n",
              "INDUS      float64\n",
              "RM         float64\n",
              "AGE        float64\n",
              "DIS        float64\n",
              "RAD          int64\n",
              "TAX          int64\n",
              "PTRATIO    float64\n",
              "LSTAT      float64\n",
              "MEDV       float64\n",
              "dtype: object"
            ]
          },
          "metadata": {},
          "execution_count": 11
        }
      ]
    },
    {
      "cell_type": "code",
      "metadata": {
        "id": "7FKUyemIwP1I"
      },
      "source": [
        "#converting dataframe into numpy array\n",
        "X=df_train.iloc[:, 0:10].values\n",
        "Y=df_train.iloc[:, 10].values"
      ],
      "execution_count": 12,
      "outputs": []
    },
    {
      "cell_type": "code",
      "metadata": {
        "id": "8tRLNuogBjgt"
      },
      "source": [
        "from sklearn.model_selection import train_test_split"
      ],
      "execution_count": 13,
      "outputs": []
    },
    {
      "cell_type": "code",
      "metadata": {
        "id": "WNJi5e0dB23V"
      },
      "source": [
        "#splitting of the datset\n",
        "x_train,x_test,y_train,y_test=train_test_split(X,Y,test_size=0.2)"
      ],
      "execution_count": 14,
      "outputs": []
    },
    {
      "cell_type": "code",
      "metadata": {
        "colab": {
          "base_uri": "https://localhost:8080/"
        },
        "id": "aB5NwaZVCNQ2",
        "outputId": "592b9b5b-3673-4411-a998-adf9ee61016e"
      },
      "source": [
        "x_train.shape,y_train.shape"
      ],
      "execution_count": 15,
      "outputs": [
        {
          "output_type": "execute_result",
          "data": {
            "text/plain": [
              "((404, 10), (404,))"
            ]
          },
          "metadata": {},
          "execution_count": 15
        }
      ]
    },
    {
      "cell_type": "code",
      "metadata": {
        "id": "dUWinF2IEvQK"
      },
      "source": [
        "from sklearn.preprocessing import StandardScaler\n",
        "scale_x=StandardScaler()\n",
        "x_train=scale_x.fit_transform(x_train)\n",
        "x_test=scale_x.fit_transform(x_test)"
      ],
      "execution_count": 16,
      "outputs": []
    },
    {
      "cell_type": "code",
      "metadata": {
        "colab": {
          "base_uri": "https://localhost:8080/"
        },
        "id": "gpg9uE2KHlhe",
        "outputId": "cc79fe9f-6b95-4d32-d36c-6278d365c3ff"
      },
      "source": [
        "x_train.shape,y_train.shape"
      ],
      "execution_count": 17,
      "outputs": [
        {
          "output_type": "execute_result",
          "data": {
            "text/plain": [
              "((404, 10), (404,))"
            ]
          },
          "metadata": {},
          "execution_count": 17
        }
      ]
    },
    {
      "cell_type": "code",
      "metadata": {
        "id": "zpH-Ox_Iw_7q"
      },
      "source": [
        "# we use method of liner regression to train and test dataset\n",
        "from sklearn.linear_model import LinearRegression\n",
        "reg=LinearRegression(normalize=True)"
      ],
      "execution_count": 18,
      "outputs": []
    },
    {
      "cell_type": "code",
      "metadata": {
        "id": "sPVmumoexfXV"
      },
      "source": [
        "reg.fit(x_train,y_train)"
      ],
      "execution_count": null,
      "outputs": []
    },
    {
      "cell_type": "code",
      "metadata": {
        "id": "YunjntsgxuVY"
      },
      "source": [
        "Y_predict=reg.predict(x_train)"
      ],
      "execution_count": 20,
      "outputs": []
    },
    {
      "cell_type": "code",
      "metadata": {
        "colab": {
          "base_uri": "https://localhost:8080/"
        },
        "id": "AQCXhuCTIgzH",
        "outputId": "6c692d14-1eb9-4f21-c717-e248c4240ee1"
      },
      "source": [
        "Y_predict"
      ],
      "execution_count": 21,
      "outputs": [
        {
          "output_type": "execute_result",
          "data": {
            "text/plain": [
              "array([32.78223989, 32.43012487, 33.20761619, 22.01723645, 23.55588178,\n",
              "       17.82638993, 19.70821149, 23.73212686, 23.82374767, 31.28442617,\n",
              "       19.13113262, 15.34668113, 22.18853823, 21.41552375, 15.2956837 ,\n",
              "       15.26058502, 17.48262764, 19.50552781, 23.88677019, 25.24951602,\n",
              "       17.21697154, 20.28632889, 19.65426747, 23.97243759, 39.33104199,\n",
              "        8.92046266, 16.68716978, 15.87869619, 24.74605662, 28.51294245,\n",
              "       27.97415403, 17.40791316, 18.03958406,  5.36129176, 10.40152013,\n",
              "       15.7672415 , 17.15846881, 20.26532683, 30.52347869, 34.10846556,\n",
              "       12.81180628, 22.35851743, 14.45055024, 14.70737813, 19.61846419,\n",
              "       17.98498706, 29.96414305, 20.83210706, 29.63246559, 25.11116676,\n",
              "       17.49244671, 22.54374568, 16.23426473, 12.24990155, 27.69523823,\n",
              "       22.25708871, 13.97803088, 26.52416436, 25.84750082, 14.65126931,\n",
              "       31.42058525, 25.16528113, 31.44228784, 16.71584432,  5.53983942,\n",
              "       19.81338649, 24.83198904, 33.84622967, 30.22517487,  8.82871898,\n",
              "       36.03375623, 28.53974761, 22.11057763, 23.52688238,  4.1214353 ,\n",
              "       33.89145541, 20.45851179, 21.43101481, 12.23229489, 11.16046897,\n",
              "        3.11145298,  5.81456584, 33.5450942 , 19.50084663, 29.19370145,\n",
              "       15.012293  , 33.71515956, 18.33707649, 23.34755384, 41.05854668,\n",
              "       19.7206653 , 38.08485606, 28.27291017, 22.61325834,  9.08756381,\n",
              "       19.29698677,  6.38723593, 18.29173919, 19.65898787, 19.752016  ,\n",
              "       23.19202877, 27.73470092, 20.72312155, 26.27989369, 26.31116963,\n",
              "       31.11225743, 25.15880476, 38.11598316, -3.01251642, 24.77356033,\n",
              "       41.05428315, 19.26593215, 23.69883791, 24.93586529, 31.1936195 ,\n",
              "       26.4501702 , 20.94708073, 20.70509192, 25.72832809, 29.48545867,\n",
              "       21.65340813, 12.12086871, 21.61859052, 16.61099519, 16.92413885,\n",
              "       24.65899233, 17.26711827, 18.72130462, 24.63527851, 25.3594965 ,\n",
              "       23.28734369, 14.09397149, 20.15645789, 11.76744093, 16.12595144,\n",
              "       15.55430356, 30.33868009, 20.15187494, 19.71859251, 21.07058345,\n",
              "       29.52219364, 14.77173783, 16.23607709, 26.20019059, 28.56265665,\n",
              "       29.87877466, 18.81017155, 35.72870474, 28.90622402, 32.9774536 ,\n",
              "       22.68024297, 24.29725693, 19.86674114, 16.63620693, 37.10189008,\n",
              "        4.76702628, 10.72469789, 17.59820657, 33.9873367 , 32.85559066,\n",
              "       24.12902621, 19.48702987, 28.60418338, 22.26557651, 13.68668362,\n",
              "       22.47272852, 23.92395384, 28.01769977, 21.19077945, 10.0560334 ,\n",
              "       37.9259269 , 22.95861057, 22.66518824, 21.79823131, 38.95827466,\n",
              "       21.3493129 , 16.48456246, 21.51599129, 21.39508981, 19.40049275,\n",
              "       32.40939213, 11.9341976 , 25.80979872, 30.34613268, 29.92963467,\n",
              "       24.74233975, 24.61900739, 39.14387593, 40.54735588, 35.21042275,\n",
              "       24.51333044, 23.26726585, 26.78849725, 27.35939831, 23.0109184 ,\n",
              "       10.17164512, 34.65578743, 24.11873273, 27.88798413, 27.79144736,\n",
              "       31.86583988, 26.02248187, 23.50890536, 18.67138077, 15.61196724,\n",
              "       25.48725943, 22.6355097 , 34.32694884, 27.67792943, 24.00382225,\n",
              "       31.37225809, 19.97462184, 26.6799826 , 22.81773792, 29.53287015,\n",
              "       21.03019519, 36.74925488, 28.45287756, 24.1437379 , 18.02903821,\n",
              "       18.96423633, 13.24882869, 16.33252023, 21.63991473, 19.90871555,\n",
              "       26.35680336, 14.95419611, 24.53473622, 19.50565522, 20.43959896,\n",
              "       21.32330644, 32.96985891, 26.19955041, 21.42977033, 20.69895818,\n",
              "       19.97624255, 21.50156125, 23.61852544, 23.43870595, 17.34671554,\n",
              "       18.46502154, 27.81420526, 22.83304236, 30.2433899 , 23.62375864,\n",
              "       23.63950016, 24.95540926, 11.21859644, 40.00542441, 28.9815146 ,\n",
              "       19.81623616, 19.41286459, 22.81004321, 16.23184087, 21.96860648,\n",
              "        9.83548067, 12.01841321, 43.06508455, 20.2158997 , 27.67803009,\n",
              "       20.66161021, 18.61439165, 24.85466695, 34.97986226, 24.65651295,\n",
              "       27.85527232, 27.93428592, 41.61040631, 21.02596355, 26.06793764,\n",
              "       19.34447158,  6.28776793, 24.42294705, 32.33991735, 21.42670319,\n",
              "       29.34377196, 25.97436014, 19.60183265, 38.4813956 , 20.51064228,\n",
              "       24.61764424, 23.89445108, 18.92855727,  9.46308899, 28.08470149,\n",
              "       21.60654778, 21.8262301 , 26.47414861, 35.69374723, 21.39880663,\n",
              "       31.69541018, 20.05167003, 19.3503937 , 19.06590869, 18.00000748,\n",
              "       38.79077461, 32.657905  ,  1.50989333, 19.87864977, 24.35482078,\n",
              "       16.36531919, 30.54597944, 20.38515976, 16.16440966, 26.20354611,\n",
              "       24.32105386, 32.2652755 , 25.00261731, 15.18886031, 23.77912594,\n",
              "       24.89873889, 15.80966469, 19.40130445, 26.28598804, 31.59733392,\n",
              "       33.15050231, 40.74499201, 19.36316093,  8.95141027, 21.08389116,\n",
              "       31.06760433, 24.11025717, 12.92138567, 33.44810527, 13.34141721,\n",
              "       26.16559036, 21.78891893, 21.21032598, 29.67308686, 12.78243826,\n",
              "        2.16974104, 18.35107425, 24.04551435, 20.52414752, 20.96271145,\n",
              "       36.25915013, 31.58724273, 11.60394037, 19.06880685, 13.60013145,\n",
              "       36.40898829, 19.98154696, 14.53199924, 20.54575839, 25.00727522,\n",
              "       34.61452932, 32.71843462, 20.38860553, 26.83200478, 37.43253882,\n",
              "       38.28627683,  6.69894344, 33.66661391, 19.73046448, 26.5344812 ,\n",
              "       25.67222633, 22.23159812, 21.74715727, 25.13766961, 18.04930036,\n",
              "       18.94379639, 19.12033319, 31.3550923 , 12.60768217, 18.12689361,\n",
              "       36.65409122, 26.58547212, 21.90717412,  6.03679777, 20.04635117,\n",
              "       17.84647942, 20.96334278, 32.08998398, 13.93697474, 28.04788695,\n",
              "       29.92760227, 21.25968562, 26.07732109, 20.52159613, 34.90137898,\n",
              "       37.97424939, 13.56846342, 25.05360788, 19.25962133, 25.83278499,\n",
              "       29.50400382, 25.79786215, 26.0895649 , 22.6687276 , 17.8334175 ,\n",
              "       12.4677284 , 21.4308375 , 13.99456786, 12.21435645, 21.21371107,\n",
              "       27.63762128, 10.98711193, 37.87973581, 22.60518767, 18.43692237,\n",
              "       12.12181707, 17.46307623, 22.04490095, 31.63577205])"
            ]
          },
          "metadata": {},
          "execution_count": 21
        }
      ]
    },
    {
      "cell_type": "code",
      "metadata": {
        "colab": {
          "base_uri": "https://localhost:8080/"
        },
        "id": "4_S2It0sI1Rf",
        "outputId": "127b3c08-fef6-4ac7-bfbe-cd20cb64da70"
      },
      "source": [
        "#training score is 71.12%\n",
        "reg.score(x_train,y_train)"
      ],
      "execution_count": 22,
      "outputs": [
        {
          "output_type": "execute_result",
          "data": {
            "text/plain": [
              "0.7112801464515404"
            ]
          },
          "metadata": {},
          "execution_count": 22
        }
      ]
    },
    {
      "cell_type": "code",
      "metadata": {
        "id": "V2Xo8Q8qJHGR"
      },
      "source": [
        "reg.fit(x_test,y_test)\n",
        "reg.score(x_test,y_test)\n",
        "y_predict2=reg.predict(x_test)"
      ],
      "execution_count": null,
      "outputs": []
    },
    {
      "cell_type": "code",
      "metadata": {
        "colab": {
          "base_uri": "https://localhost:8080/"
        },
        "id": "s8pg26F_JQx9",
        "outputId": "47180557-377e-4827-fcea-b1e901c33266"
      },
      "source": [
        "y_predict2"
      ],
      "execution_count": 24,
      "outputs": [
        {
          "output_type": "execute_result",
          "data": {
            "text/plain": [
              "array([26.28078954, 34.11337648, 26.70633574, 23.35310563, 25.70608545,\n",
              "       17.98662599, 24.6027026 , 15.19077567, 10.5027088 , 19.86255886,\n",
              "       16.60494549, 15.05234057,  9.57028646, 13.52726481, 33.01600756,\n",
              "       16.49717487, 22.20214884, 29.19690742, 22.62872971, 19.21620005,\n",
              "       20.10888851, 26.99750509, 21.12216268, 39.30827439, 16.17684872,\n",
              "       25.25861802, 35.94505218, 18.32757431, 36.21136749, 15.21899608,\n",
              "        7.4894815 , 18.56448727, 20.94691988, 19.18130598, 13.92362563,\n",
              "       13.74221718, 25.37755111, 16.40200507, 16.34068761, 28.64073878,\n",
              "       22.71452254, 42.0177071 , 14.62148527, 20.634153  , 22.29512881,\n",
              "       17.63327433, 24.3325905 , 33.60694241, 15.22166115, 15.41805263,\n",
              "       25.45244973, 27.87320837,  8.40318654, 14.46076672, 15.97207354,\n",
              "       16.71018146, 16.74937851, 41.69881848, 25.06008232, 11.71138396,\n",
              "       44.94450915, 16.90307574,  5.33227888, 15.89724653,  4.39453635,\n",
              "       16.05301172, 19.28246489, 26.20062678, 20.75175508, 25.84453016,\n",
              "       10.27356376, 15.02351147, 19.72704034, 22.43758838, 30.46576659,\n",
              "       24.00567891, 19.825308  , 23.28791425, 11.55366854, 20.51485711,\n",
              "       18.62607008, 23.00941081, 30.92245115, 20.68353312, 20.15060938,\n",
              "       16.07493911, 15.21652127, 22.96914226, 21.94731832, 13.98136462,\n",
              "       34.68158799, 14.29483129, 16.31897859, 35.2240972 , 17.83546335,\n",
              "       25.29045211, 21.14995299, 14.89393576, 20.36667828,  3.00219503,\n",
              "       19.05322016, 27.4998891 ])"
            ]
          },
          "metadata": {},
          "execution_count": 24
        }
      ]
    },
    {
      "cell_type": "code",
      "metadata": {
        "colab": {
          "base_uri": "https://localhost:8080/"
        },
        "id": "CizzYEVSJZ5T",
        "outputId": "24378605-1243-4737-ec88-bd10f228796e"
      },
      "source": [
        "#testing score is 82.41%\n",
        "reg.score(x_test,y_test)"
      ],
      "execution_count": 25,
      "outputs": [
        {
          "output_type": "execute_result",
          "data": {
            "text/plain": [
              "0.8216343288743053"
            ]
          },
          "metadata": {},
          "execution_count": 25
        }
      ]
    },
    {
      "cell_type": "code",
      "metadata": {
        "colab": {
          "base_uri": "https://localhost:8080/",
          "height": 265
        },
        "id": "E8b2iE5byCLA",
        "outputId": "82ab47e2-8a26-49ec-8f0d-4746f17b7acf"
      },
      "source": [
        "plt.scatter(y_train,y_predict)\n",
        "plt.plot(x_test[:, 3],y_predict2)\n",
        "plt.show()"
      ],
      "execution_count": null,
      "outputs": [
        {
          "output_type": "display_data",
          "data": {
            "image/png": "[encoded data removed]",
            "text/plain": [
              "<Figure size 432x288 with 1 Axes>"
            ]
          },
          "metadata": {
            "needs_background": "light"
          }
        }
      ]
    },
    {
      "cell_type": "code",
      "metadata": {
        "colab": {
          "base_uri": "https://localhost:8080/"
        },
        "id": "wEIoBzcAxjDx",
        "outputId": "154ff7f7-5afc-4c18-adf2-7b5f4ea36c16"
      },
      "source": [
        "reg.intercept_"
      ],
      "execution_count": null,
      "outputs": [
        {
          "output_type": "execute_result",
          "data": {
            "text/plain": [
              "22.237962962963003"
            ]
          },
          "metadata": {},
          "execution_count": 46
        }
      ]
    },
    {
      "cell_type": "code",
      "metadata": {
        "colab": {
          "base_uri": "https://localhost:8080/"
        },
        "id": "Ch2YBdIIK5Cs",
        "outputId": "728eb349-534e-4f86-f4f1-1f231be23c5c"
      },
      "source": [
        "reg.coef_"
      ],
      "execution_count": null,
      "outputs": [
        {
          "output_type": "execute_result",
          "data": {
            "text/plain": [
              "array([-1.00547475,  1.5108556 ,  0.25089922,  1.80326085, -0.14337756,\n",
              "       -2.4415094 ,  3.07605726, -3.48352161, -1.54701115, -5.21015633])"
            ]
          },
          "metadata": {},
          "execution_count": 47
        }
      ]
    }
  ]
}